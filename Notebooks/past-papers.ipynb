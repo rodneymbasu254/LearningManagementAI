{
 "cells": [
  {
   "cell_type": "code",
   "execution_count": 1,
   "id": "0466f3fc-648b-466d-b20a-92cf5b00e5e3",
   "metadata": {},
   "outputs": [
    {
     "name": "stderr",
     "output_type": "stream",
     "text": [
      "C:\\Users\\Home\\AppData\\Local\\Programs\\Python\\Python312\\Lib\\site-packages\\tqdm\\auto.py:21: TqdmWarning: IProgress not found. Please update jupyter and ipywidgets. See https://ipywidgets.readthedocs.io/en/stable/user_install.html\n",
      "  from .autonotebook import tqdm as notebook_tqdm\n"
     ]
    }
   ],
   "source": [
    "import pdfplumber\n",
    "from transformers import BertTokenizer\n",
    "import re"
   ]
  },
  {
   "cell_type": "code",
   "execution_count": 2,
   "id": "e2b86245-bcdc-4f42-b98e-102bf25fcea9",
   "metadata": {},
   "outputs": [
    {
     "name": "stdout",
     "output_type": "stream",
     "text": [
      "COMP 305\n",
      "KISII UNIVERSITY\n",
      "UNIVERSITY EXAMINATIONS\n",
      "THIRD YEAR EXAMINATION FOR THE AWARD OF THE DEGREE OF\n",
      "BACHELOR OF SCIENCE IN COMPUTER SCIENCE\n",
      "FIRST SEMESTER 2022/2023\n",
      "[SEPTEMBER-DECEMBER, 2022]\n",
      "COMP 305: OBJECT ORIENTED PROGRAMMING II [JAVA]\n",
      "STREAM: Y3S1 TIME: 2 HOURS\n",
      "DAY: TUESDAY, 9:00 – 11:00 AM DATE: 20/12/2022\n",
      "INSTRUCTIONS\n",
      "1. Do not write anything on this question paper.\n",
      "2. Answer question ONE and any other TWO questions.\n",
      "QUESTION ONE (30 MARKS)\n",
      "a) Difference between OOPS and procedural programming languages.\n",
      "[5 marks]\n",
      "b) Describe the main difference between the Java layout managers and layout\n",
      "managers found in other traditional windowing systems. [4 marks]\n",
      "c) What might go wrong with the following code, what would you need to do to\n",
      "fix it. [4 marks]\n",
      "public class Test {\n",
      "int x; int y;\n",
      "public Test (int x, int y) {\n",
      "x = x;\n",
      "y = y;\n",
      "}\n",
      "}\n",
      "d) What will be the result of attempting to compile and run the following\n",
      "code? Explain. (5 marks)\n",
      "abstract class MineBase {\n",
      "abstract void amethod();\n",
      "static int i;\n",
      "Page 1 of 3\n",
      "}\n",
      "public class Mine extends MineBase {\n",
      "public static void main(String argv[]){\n",
      "int[] ar=new int[5];\n",
      "for(i=0;i < ar.length;i++)\n",
      "System.out.println(ar[i]);\n",
      "}\n",
      "}\n",
      "e) Consider a loan processing system in a bank. Identify the classes and\n",
      "objects in the system and list them. (5 marks)\n",
      "f) List the advantages and disadvantages of using a collection class ArrayList\n",
      "in place of an array. [2 marks]\n",
      "g) Write class Car that has two fields: model that represents the model of the\n",
      "car; and year that represents the year of manufacturing. It has accessor\n",
      "methods and toString method that returns a string representing the\n",
      "information of a car. [6 marks]\n",
      "QUESTION TWO (20 MARKS)\n",
      "a) With relevant examples describe abstraction and encapsulation. Write a java\n",
      "program that uses abstraction and encapsulation. [7 marks]\n",
      "b) Write a declaration for an array variable people that could be used to refer to\n",
      "an array of Person objects and write a statement to create such array.\n",
      "[5 marks]\n",
      "c) Write a Java program that draws an oval that encloses a smaller circle. The\n",
      "circle should be filled with color blue. (8 marks)\n",
      "QUESTION THREE (20 MARKS)\n",
      "a) Classify the basic difference between the two approaches to exception\n",
      "handling. (4 marks)\n",
      "b) Runtime errors are not seen by the compiler as is the case with syntax errors,\n",
      "and are only identified at runtime when a program fails to produce the desired\n",
      "results. Runtime errors trigger exceptions.\n",
      "i) Give any four common Java exceptions and the corresponding\n",
      "runtime error that triggered each of these exceptions. (8 marks)\n",
      "ii) Write a Java program that divides two numbers but uses the try-catch\n",
      "block to handle a case where a user tries to divide a number by zero.\n",
      "(8 marks)\n",
      "Page 2 of 3\n",
      "QUESTION FOUR (20 MARKS)\n",
      "a) What is interface? Write a java program to illustrate the use of interface.\n",
      "(10 marks)\n",
      "b) List the situation in which an action event and item event is generated\n",
      "(3 marks)\n",
      "c) Write a program that creates an ArrayList, populates it with names of five\n",
      "Kenyan cities, and then displays these names. Afterwards, two of the\n",
      "names are removed from the ArrayList, and the remaining three names are\n",
      "again displayed. (7 marks)\n",
      "QUESTION FIVE (20 MARKS)\n",
      "a) Explain when an inner class is appropriate. Give a concrete example of using\n",
      "an inner class. (6 marks)\n",
      "b) Suppose we have a class, call it Server, which has some desired functionality.\n",
      "Suppose further that we want to be able to replace it with another class,\n",
      "OtherServer, which performs the same task but in a different way. It must be\n",
      "possible to switch between Server and OtherServer without having to\n",
      "recompile the classes that call them. Write a program which solves this\n",
      "problem with the help of polymorphism. (8 marks)\n",
      "c) With appropriate code illustrations, show how you can use an interface to\n",
      "give different classes a common public interface and clearly demonstrate how\n",
      "objects of the classes can be called using polymorphism. (6 marks)\n",
      "Page 3 of 3\n",
      "\n"
     ]
    }
   ],
   "source": [
    "def extract_text_from_pdf(pdf_path):\n",
    "    text = \"\"\n",
    "    with pdfplumber.open(pdf_path) as pdf:\n",
    "        for page in pdf.pages:\n",
    "            text += page.extract_text() + \"\\n\"\n",
    "    return text\n",
    "file = extract_text_from_pdf(\"C:/Users/Home/Desktop/Comp3.1/java305/COMP 305 (1).pdf\")\n",
    "print(file)"
   ]
  },
  {
   "cell_type": "code",
   "execution_count": 3,
   "id": "7c324afb-61d6-4c64-bcf8-172834910d7c",
   "metadata": {},
   "outputs": [
    {
     "name": "stdout",
     "output_type": "stream",
     "text": [
      "['comp', '305', 'kisii', 'university', 'university', 'examinations', 'third', 'year', 'examination', 'for', 'the', 'award', 'of', 'the', 'degree', 'of', 'bachelor', 'of', 'science', 'in', 'computer', 'science', 'first', 'semester', '20222023', 'septemberdecember', '2022', 'comp', '305', 'object', 'oriented', 'programming', 'ii', 'java', 'stream', 'y3s1', 'time', '2', 'hours', 'day', 'tuesday', '900', '1100', 'am', 'date', '20122022', 'instructions', '1', 'do', 'not', 'write', 'anything', 'on', 'this', 'question', 'paper', '2', 'answer', 'question', 'one', 'and', 'any', 'other', 'two', 'questions', 'question', 'one', '30', 'marks', 'a', 'difference', 'between', 'oops', 'and', 'procedural', 'programming', 'languages', '5', 'marks', 'b', 'describe', 'the', 'main', 'difference', 'between', 'the', 'java', 'layout', 'managers', 'and', 'layout', 'managers', 'found', 'in', 'other', 'traditional', 'windowing', 'systems', '4', 'marks', 'c', 'what', 'might', 'go', 'wrong', 'with', 'the', 'following', 'code', 'what', 'would', 'you', 'need', 'to', 'do', 'to', 'fix', 'it', '4', 'marks', 'public', 'class', 'test', 'int', 'x', 'int', 'y', 'public', 'test', 'int', 'x', 'int', 'y', 'x', 'x', 'y', 'y', 'd', 'what', 'will', 'be', 'the', 'result', 'of', 'attempting', 'to', 'compile', 'and', 'run', 'the', 'following', 'code', 'explain', '5', 'marks', 'abstract', 'class', 'minebase', 'abstract', 'void', 'amethod', 'static', 'int', 'i', 'page', '1', 'of', '3', 'public', 'class', 'mine', 'extends', 'minebase', 'public', 'static', 'void', 'mainstring', 'argv', 'int', 'arnew', 'int5', 'fori0i', 'arlengthi', 'systemoutprintlnari', 'e', 'consider', 'a', 'loan', 'processing', 'system', 'in', 'a', 'bank', 'identify', 'the', 'classes', 'and', 'objects', 'in', 'the', 'system', 'and', 'list', 'them', '5', 'marks', 'f', 'list', 'the', 'advantages', 'and', 'disadvantages', 'of', 'using', 'a', 'collection', 'class', 'arraylist', 'in', 'place', 'of', 'an', 'array', '2', 'marks', 'g', 'write', 'class', 'car', 'that', 'has', 'two', 'fields', 'model', 'that', 'represents', 'the', 'model', 'of', 'the', 'car', 'and', 'year', 'that', 'represents', 'the', 'year', 'of', 'manufacturing', 'it', 'has', 'accessor', 'methods', 'and', 'tostring', 'method', 'that', 'returns', 'a', 'string', 'representing', 'the', 'information', 'of', 'a', 'car', '6', 'marks', 'question', 'two', '20', 'marks', 'a', 'with', 'relevant', 'examples', 'describe', 'abstraction', 'and', 'encapsulation', 'write', 'a', 'java', 'program', 'that', 'uses', 'abstraction', 'and', 'encapsulation', '7', 'marks', 'b', 'write', 'a', 'declaration', 'for', 'an', 'array', 'variable', 'people', 'that', 'could', 'be', 'used', 'to', 'refer', 'to', 'an', 'array', 'of', 'person', 'objects', 'and', 'write', 'a', 'statement', 'to', 'create', 'such', 'array', '5', 'marks', 'c', 'write', 'a', 'java', 'program', 'that', 'draws', 'an', 'oval', 'that', 'encloses', 'a', 'smaller', 'circle', 'the', 'circle', 'should', 'be', 'filled', 'with', 'color', 'blue', '8', 'marks', 'question', 'three', '20', 'marks', 'a', 'classify', 'the', 'basic', 'difference', 'between', 'the', 'two', 'approaches', 'to', 'exception', 'handling', '4', 'marks', 'b', 'runtime', 'errors', 'are', 'not', 'seen', 'by', 'the', 'compiler', 'as', 'is', 'the', 'case', 'with', 'syntax', 'errors', 'and', 'are', 'only', 'identified', 'at', 'runtime', 'when', 'a', 'program', 'fails', 'to', 'produce', 'the', 'desired', 'results', 'runtime', 'errors', 'trigger', 'exceptions', 'i', 'give', 'any', 'four', 'common', 'java', 'exceptions', 'and', 'the', 'corresponding', 'runtime', 'error', 'that', 'triggered', 'each', 'of', 'these', 'exceptions', '8', 'marks', 'ii', 'write', 'a', 'java', 'program', 'that', 'divides', 'two', 'numbers', 'but', 'uses', 'the', 'trycatch', 'block', 'to', 'handle', 'a', 'case', 'where', 'a', 'user', 'tries', 'to', 'divide', 'a', 'number', 'by', 'zero', '8', 'marks', 'page', '2', 'of', '3', 'question', 'four', '20', 'marks', 'a', 'what', 'is', 'interface', 'write', 'a', 'java', 'program', 'to', 'illustrate', 'the', 'use', 'of', 'interface', '10', 'marks', 'b', 'list', 'the', 'situation', 'in', 'which', 'an', 'action', 'event', 'and', 'item', 'event', 'is', 'generated', '3', 'marks', 'c', 'write', 'a', 'program', 'that', 'creates', 'an', 'arraylist', 'populates', 'it', 'with', 'names', 'of', 'five', 'kenyan', 'cities', 'and', 'then', 'displays', 'these', 'names', 'afterwards', 'two', 'of', 'the', 'names', 'are', 'removed', 'from', 'the', 'arraylist', 'and', 'the', 'remaining', 'three', 'names', 'are', 'again', 'displayed', '7', 'marks', 'question', 'five', '20', 'marks', 'a', 'explain', 'when', 'an', 'inner', 'class', 'is', 'appropriate', 'give', 'a', 'concrete', 'example', 'of', 'using', 'an', 'inner', 'class', '6', 'marks', 'b', 'suppose', 'we', 'have', 'a', 'class', 'call', 'it', 'server', 'which', 'has', 'some', 'desired', 'functionality', 'suppose', 'further', 'that', 'we', 'want', 'to', 'be', 'able', 'to', 'replace', 'it', 'with', 'another', 'class', 'otherserver', 'which', 'performs', 'the', 'same', 'task', 'but', 'in', 'a', 'different', 'way', 'it', 'must', 'be', 'possible', 'to', 'switch', 'between', 'server', 'and', 'otherserver', 'without', 'having', 'to', 'recompile', 'the', 'classes', 'that', 'call', 'them', 'write', 'a', 'program', 'which', 'solves', 'this', 'problem', 'with', 'the', 'help', 'of', 'polymorphism', '8', 'marks', 'c', 'with', 'appropriate', 'code', 'illustrations', 'show', 'how', 'you', 'can', 'use', 'an', 'interface', 'to', 'give', 'different', 'classes', 'a', 'common', 'public', 'interface', 'and', 'clearly', 'demonstrate', 'how', 'objects', 'of', 'the', 'classes', 'can', 'be', 'called', 'using', 'polymorphism', '6', 'marks', 'page', '3', 'of', '3']\n"
     ]
    }
   ],
   "source": [
    "tokenizer = BertTokenizer.from_pretrained(\"bert-base-uncased\")\n",
    "\n",
    "def clean_text(text):\n",
    "    text = text.lower()\n",
    "    text = re.sub(r'\\s+', ' ', text)\n",
    "    text = re.sub(r'[^\\w\\s]', '', text)\n",
    "    return text\n",
    "def merge_wordpiece_tokens(tokens):\n",
    "    merged_tokens = []\n",
    "    current_word = ''\n",
    "    for token in tokens:\n",
    "        if token.startswith('##'):\n",
    "            current_word += token[2:]\n",
    "        else:\n",
    "            if current_word:\n",
    "                merged_tokens.append(current_word)\n",
    "            current_word = token\n",
    "    if current_word:\n",
    "        merged_tokens.append(current_word)\n",
    "    return merged_tokens\n",
    "    \n",
    "text = file\n",
    "cleaned_text = clean_text(text)\n",
    "doc1_tokens = tokenizer.tokenize(cleaned_text)\n",
    "cleaned_tokens_doc1 = merge_wordpiece_tokens(doc1_tokens)\n",
    "\n",
    "print(cleaned_tokens_doc1)"
   ]
  },
  {
   "cell_type": "code",
   "execution_count": 4,
   "id": "5a307896-adbf-4ac8-a900-723c14685351",
   "metadata": {},
   "outputs": [],
   "source": [
    "set1 = set(doc1_tokens)"
   ]
  },
  {
   "cell_type": "code",
   "execution_count": 5,
   "id": "05c11b66-8fd7-4396-80d3-36e15256498e",
   "metadata": {},
   "outputs": [
    {
     "name": "stdout",
     "output_type": "stream",
     "text": [
      "['00' '10' '11' '12' '20' '2022' '2023' '30' '305' 'able' 'abstract'\n",
      " 'abstraction' 'accessor' 'action' 'advantages' 'amethod' 'answer'\n",
      " 'approaches' 'appropriate' 'ar' 'argv' 'array' 'arraylist' 'attempting'\n",
      " 'award' 'bachelor' 'bank' 'basic' 'block' 'blue' 'called' 'car' 'case'\n",
      " 'catch' 'circle' 'cities' 'class' 'classes' 'classify' 'clearly' 'code'\n",
      " 'collection' 'color' 'common' 'comp' 'compile' 'compiler' 'computer'\n",
      " 'concrete' 'consider' 'corresponding' 'create' 'creates' 'date' 'day'\n",
      " 'december' 'declaration' 'degree' 'demonstrate' 'desired' 'difference'\n",
      " 'different' 'disadvantages' 'displayed' 'displays' 'divide' 'divides'\n",
      " 'draws' 'encapsulation' 'encloses' 'error' 'errors' 'event' 'examination'\n",
      " 'examinations' 'example' 'examples' 'exception' 'exceptions' 'explain'\n",
      " 'extends' 'fails' 'fields' 'filled' 'fix' 'following' 'functionality'\n",
      " 'generated' 'handle' 'handling' 'having' 'help' 'hours' 'identified'\n",
      " 'identify' 'ii' 'illustrate' 'illustrations' 'information' 'inner'\n",
      " 'instructions' 'int' 'interface' 'item' 'java' 'kenyan' 'kisii'\n",
      " 'languages' 'layout' 'length' 'list' 'loan' 'main' 'managers'\n",
      " 'manufacturing' 'marks' 'method' 'methods' 'minebase' 'model' 'names'\n",
      " 'need' 'new' 'number' 'numbers' 'object' 'objects' 'oops' 'oriented'\n",
      " 'otherserver' 'oval' 'page' 'paper' 'people' 'performs' 'person' 'place'\n",
      " 'polymorphism' 'populates' 'possible' 'println' 'problem' 'procedural'\n",
      " 'processing' 'produce' 'program' 'programming' 'public' 'question'\n",
      " 'questions' 'recompile' 'refer' 'relevant' 'remaining' 'removed'\n",
      " 'replace' 'representing' 'represents' 'result' 'results' 'returns' 'run'\n",
      " 'runtime' 'science' 'seen' 'semester' 'september' 'server' 'situation'\n",
      " 'smaller' 'solves' 'statement' 'static' 'stream' 'string' 'suppose'\n",
      " 'switch' 'syntax' 'systems' 'task' 'test' 'time' 'tostring' 'traditional'\n",
      " 'tries' 'trigger' 'triggered' 'try' 'tuesday' 'university' 'use' 'used'\n",
      " 'user' 'uses' 'using' 'variable' 'void' 'want' 'way' 'windowing' 'write'\n",
      " 'wrong' 'y3s1' 'year' 'zero']\n"
     ]
    }
   ],
   "source": [
    "from sklearn.feature_extraction.text import TfidfVectorizer\n",
    "\n",
    "def extract_keywords(text):\n",
    "    vectorizer = TfidfVectorizer(stop_words=\"english\")\n",
    "    X = vectorizer.fit_transform([text])\n",
    "    keywords = vectorizer.get_feature_names_out()\n",
    "    return keywords\n",
    "\n",
    "text = file\n",
    "print(extract_keywords(text))"
   ]
  },
  {
   "cell_type": "code",
   "execution_count": 6,
   "id": "bff464ac-de4d-43fb-bc08-b8759f5ffeb9",
   "metadata": {},
   "outputs": [
    {
     "name": "stdout",
     "output_type": "stream",
     "text": [
      "SOEN 305\n",
      "KISII UNIVERSITY\n",
      "UNIVERSITY EXAMINATIONS\n",
      "THIRD YEAR EXAMINATION FOR THE AWARD OF THE\n",
      "DEGREE OF BACHELOR OF SCIENCE IN SOFTWARE ENGINEERING\n",
      "FIRST SEMESTER, 2023/2024\n",
      "(AUGUST-DECEMBER, 2023)\n",
      "SOEN 305: OBJECT ORIENTED PROGRAMMING II [JAVA]\n",
      "STREAM: Y3 S1 TIME: 2 HOURS\n",
      "DAY: TUESDAY, 03.00–02:00 PM DATE: 21/11/2023\n",
      "INSTRUCTIONS\n",
      "1. Do not write anything on this question paper.\n",
      "2. Answer Question ONE [Compulsory] and any other TWO Questions.\n",
      "QUESTION ONE (30 MARKS)\n",
      "(a) In your words, describe object oriented programming (2 marks)\n",
      "(b) What are abstract methods? Describe the circumstances in which an abstract\n",
      "method would be appropriate (2 marks)\n",
      "(c)\n",
      "i. Create a class called invoice that a hardware store might use to represent an\n",
      "invoice for an item sold at the store. An invoice should include 4 pieces of\n",
      "information as instance variables; a part number (type string), a part description\n",
      "(type string), a quantity of the item being purchased (type int) and a price per item(double).\n",
      "(5 marks)\n",
      "ii. . Your class should have a constructor that initializes the 4 instance variables.\n",
      "Provide a set and a get method for each of the 4 instance variables. In addition\n",
      "provide a method named getInvoiceAmount that calculates the invoice amount i.e. multiplies\n",
      "the quantity by the price per item, then returns the amount as a double value. If the quantity is\n",
      "not positive, it should be set to 0.0. (5 marks)\n",
      "iii. Write a test application named invoiceTest that demonstrates class invoice’s\n",
      "capabilities. (5 marks)\n",
      "Page 1 of 3\n",
      "(d) Explain how:\n",
      "i. The super reference is important to a child class. (2 marks)\n",
      "ii. Inheritance support polymorphism (2 marks)\n",
      "(e) Describe the principles of the object oriented paradigm (7 marks)\n",
      "QUESTION TWO (20 marks)\n",
      "(a) As a software developer, discuss briefly the various error and exception handling options available\n",
      "in Java.\n",
      "(6 marks) public class SurveyTaker {\n",
      "(b) Write a complete java/C++ program that prompt the private int numOfYes;\n",
      "user to enter two non-negative integer number. Your\n",
      "private int numOfNo;\n",
      "program should handle bad input data through the use\n",
      "public SurveyTaker() {\n",
      "of a try/catch block to handle the this.numOfYes = 0;\n",
      "inputMismathException this.numOfNo = 0;\n",
      "(8 marks) }\n",
      "(c) Explain the difference between implementing an public void enterResponse(String response) {\n",
      "interface and a derived class. Give code illustrations. if (response.equals(\"yes\")) {\n",
      "this.numOfYes++;\n",
      "(6 marks) } else if (response.equals(\"no\")) {\n",
      "this.numOfNo++;\n",
      "} }\n",
      "QUESTION THREE (20 marks)\n",
      "public int getYesses() {\n",
      "return this.numOfYes;\n",
      "(a) Consider a SurveyTaker class, which can be used to\n",
      "}\n",
      "collect data from a yes/no survey.\n",
      "}\n",
      "i. In the class definition, clearly identify one of each\n",
      "of the following components: field, constructor, method, parameter (4 marks)\n",
      "ii. What would happen if the user called the enterResponse method with an input value other\n",
      "than \"yes\" or \"no\"? For example, suppose the user entered \"maybe\" in the input box when\n",
      "prompted. Would an error occur? If not, what would the method do? Explain your answer.\n",
      "(5 marks)\n",
      "iii. Discuss the context of use of this keyword in this code. (3 marks)\n",
      "iv. Write an application to test the capability of the SurveyTaker class. (8 marks)\n",
      "(b) Discuss the concept of method overloading and method overriding as used in object oriented\n",
      "programming. Write simple java codes that illustrates the concepts. (8 marks)\n",
      "QUESTION FOUR (20 marks)\n",
      "Page 2 of 3\n",
      "(a) Write a program to generate the Graphical User Interface(GUI)with two buttons labelled IN\n",
      "and OUT. If the user clicks the IN button, the message “DOCTOR IS IN” flashes and if the\n",
      "user click OUT button the message “DOCTOR IS OUT” flashes. (8 marks)\n",
      "(b) Bu use of examples, discuss the concept of method overloading and method overriding as used\n",
      "in object oriented programming. (8 marks)\n",
      "(c) Explain the advantage for programming your GUI in an applet environment vs SWING\n",
      "(4 marks)\n",
      "QUESTION FIVE (20 MARKS)\n",
      "(a) Write a java program to create a class ‘STUDENT’ with data members Rgno, Name, Course,\n",
      "Branch, and Semester. Store them in an array of objects. (5 marks)\n",
      "(b) Write an applet that will display the resulting GUI below. (15 marks)\n",
      "Page 3 of 3\n",
      "\n"
     ]
    }
   ],
   "source": [
    "def extract_text_from_pdf(pdf_path):\n",
    "    text = \"\"\n",
    "    with pdfplumber.open(pdf_path) as pdf:\n",
    "        for page in pdf.pages:\n",
    "            text += page.extract_text() + \"\\n\"\n",
    "    return text\n",
    "file = extract_text_from_pdf(\"C:/Users/Home/Desktop/Comp3.1/java305/SOEN 305 (1).pdf\")\n",
    "print(file)"
   ]
  },
  {
   "cell_type": "code",
   "execution_count": 8,
   "id": "fb79e01a-064f-4ca4-91e9-7734a3a5f662",
   "metadata": {},
   "outputs": [
    {
     "name": "stdout",
     "output_type": "stream",
     "text": [
      "['soen', '305', 'kisii', 'university', 'university', 'examinations', 'third', 'year', 'examination', 'for', 'the', 'award', 'of', 'the', 'degree', 'of', 'bachelor', 'of', 'science', 'in', 'software', 'engineering', 'first', 'semester', '20232024', 'augustdecember', '2023', 'soen', '305', 'object', 'oriented', 'programming', 'ii', 'java', 'stream', 'y3', 's1', 'time', '2', 'hours', 'day', 'tuesday', '03000200', 'pm', 'date', '21112023', 'instructions', '1', 'do', 'not', 'write', 'anything', 'on', 'this', 'question', 'paper', '2', 'answer', 'question', 'one', 'compulsory', 'and', 'any', 'other', 'two', 'questions', 'question', 'one', '30', 'marks', 'a', 'in', 'your', 'words', 'describe', 'object', 'oriented', 'programming', '2', 'marks', 'b', 'what', 'are', 'abstract', 'methods', 'describe', 'the', 'circumstances', 'in', 'which', 'an', 'abstract', 'method', 'would', 'be', 'appropriate', '2', 'marks', 'c', 'i', 'create', 'a', 'class', 'called', 'invoice', 'that', 'a', 'hardware', 'store', 'might', 'use', 'to', 'represent', 'an', 'invoice', 'for', 'an', 'item', 'sold', 'at', 'the', 'store', 'an', 'invoice', 'should', 'include', '4', 'pieces', 'of', 'information', 'as', 'instance', 'variables', 'a', 'part', 'number', 'type', 'string', 'a', 'part', 'description', 'type', 'string', 'a', 'quantity', 'of', 'the', 'item', 'being', 'purchased', 'type', 'int', 'and', 'a', 'price', 'per', 'itemdouble', '5', 'marks', 'ii', 'your', 'class', 'should', 'have', 'a', 'constructor', 'that', 'initializes', 'the', '4', 'instance', 'variables', 'provide', 'a', 'set', 'and', 'a', 'get', 'method', 'for', 'each', 'of', 'the', '4', 'instance', 'variables', 'in', 'addition', 'provide', 'a', 'method', 'named', 'getinvoiceamount', 'that', 'calculates', 'the', 'invoice', 'amount', 'ie', 'multiplies', 'the', 'quantity', 'by', 'the', 'price', 'per', 'item', 'then', 'returns', 'the', 'amount', 'as', 'a', 'double', 'value', 'if', 'the', 'quantity', 'is', 'not', 'positive', 'it', 'should', 'be', 'set', 'to', '00', '5', 'marks', 'iii', 'write', 'a', 'test', 'application', 'named', 'invoicetest', 'that', 'demonstrates', 'class', 'invoices', 'capabilities', '5', 'marks', 'page', '1', 'of', '3', 'd', 'explain', 'how', 'i', 'the', 'super', 'reference', 'is', 'important', 'to', 'a', 'child', 'class', '2', 'marks', 'ii', 'inheritance', 'support', 'polymorphism', '2', 'marks', 'e', 'describe', 'the', 'principles', 'of', 'the', 'object', 'oriented', 'paradigm', '7', 'marks', 'question', 'two', '20', 'marks', 'a', 'as', 'a', 'software', 'developer', 'discuss', 'briefly', 'the', 'various', 'error', 'and', 'exception', 'handling', 'options', 'available', 'in', 'java', '6', 'marks', 'public', 'class', 'surveytaker', 'b', 'write', 'a', 'complete', 'javac', 'program', 'that', 'prompt', 'the', 'private', 'int', 'numofyes', 'user', 'to', 'enter', 'two', 'nonnegative', 'integer', 'number', 'your', 'private', 'int', 'numofno', 'program', 'should', 'handle', 'bad', 'input', 'data', 'through', 'the', 'use', 'public', 'surveytaker', 'of', 'a', 'trycatch', 'block', 'to', 'handle', 'the', 'thisnumofyes', '0', 'inputmismathexception', 'thisnumofno', '0', '8', 'marks', 'c', 'explain', 'the', 'difference', 'between', 'implementing', 'an', 'public', 'void', 'enterresponsestring', 'response', 'interface', 'and', 'a', 'derived', 'class', 'give', 'code', 'illustrations', 'if', 'responseequalsyes', 'thisnumofyes', '6', 'marks', 'else', 'if', 'responseequalsno', 'thisnumofno', 'question', 'three', '20', 'marks', 'public', 'int', 'getyesses', 'return', 'thisnumofyes', 'a', 'consider', 'a', 'surveytaker', 'class', 'which', 'can', 'be', 'used', 'to', 'collect', 'data', 'from', 'a', 'yesno', 'survey', 'i', 'in', 'the', 'class', 'definition', 'clearly', 'identify', 'one', 'of', 'each', 'of', 'the', 'following', 'components', 'field', 'constructor', 'method', 'parameter', '4', 'marks', 'ii', 'what', 'would', 'happen', 'if', 'the', 'user', 'called', 'the', 'enterresponse', 'method', 'with', 'an', 'input', 'value', 'other', 'than', 'yes', 'or', 'no', 'for', 'example', 'suppose', 'the', 'user', 'entered', 'maybe', 'in', 'the', 'input', 'box', 'when', 'prompted', 'would', 'an', 'error', 'occur', 'if', 'not', 'what', 'would', 'the', 'method', 'do', 'explain', 'your', 'answer', '5', 'marks', 'iii', 'discuss', 'the', 'context', 'of', 'use', 'of', 'this', 'keyword', 'in', 'this', 'code', '3', 'marks', 'iv', 'write', 'an', 'application', 'to', 'test', 'the', 'capability', 'of', 'the', 'surveytaker', 'class', '8', 'marks', 'b', 'discuss', 'the', 'concept', 'of', 'method', 'overloading', 'and', 'method', 'overriding', 'as', 'used', 'in', 'object', 'oriented', 'programming', 'write', 'simple', 'java', 'codes', 'that', 'illustrates', 'the', 'concepts', '8', 'marks', 'question', 'four', '20', 'marks', 'page', '2', 'of', '3', 'a', 'write', 'a', 'program', 'to', 'generate', 'the', 'graphical', 'user', 'interfaceguiwith', 'two', 'buttons', 'labelled', 'in', 'and', 'out', 'if', 'the', 'user', 'clicks', 'the', 'in', 'button', 'the', 'message', 'doctor', 'is', 'in', 'flashes', 'and', 'if', 'the', 'user', 'click', 'out', 'button', 'the', 'message', 'doctor', 'is', 'out', 'flashes', '8', 'marks', 'b', 'bu', 'use', 'of', 'examples', 'discuss', 'the', 'concept', 'of', 'method', 'overloading', 'and', 'method', 'overriding', 'as', 'used', 'in', 'object', 'oriented', 'programming', '8', 'marks', 'c', 'explain', 'the', 'advantage', 'for', 'programming', 'your', 'gui', 'in', 'an', 'applet', 'environment', 'vs', 'swing', '4', 'marks', 'question', 'five', '20', 'marks', 'a', 'write', 'a', 'java', 'program', 'to', 'create', 'a', 'class', 'student', 'with', 'data', 'members', 'rgno', 'name', 'course', 'branch', 'and', 'semester', 'store', 'them', 'in', 'an', 'array', 'of', 'objects', '5', 'marks', 'b', 'write', 'an', 'applet', 'that', 'will', 'display', 'the', 'resulting', 'gui', 'below', '15', 'marks', 'page', '3', 'of', '3']\n"
     ]
    }
   ],
   "source": [
    "tokenizer = BertTokenizer.from_pretrained(\"bert-base-uncased\")\n",
    "\n",
    "def clean_text(text):\n",
    "    text = text.lower()\n",
    "    text = re.sub(r'\\s+', ' ', text)\n",
    "    text = re.sub(r'[^\\w\\s]', '', text)\n",
    "    return text\n",
    "def merge_wordpiece_tokens(tokens):\n",
    "    merged_tokens = []\n",
    "    current_word = ''\n",
    "    for token in tokens:\n",
    "        if token.startswith('##'):\n",
    "            current_word += token[2:]\n",
    "        else:\n",
    "            if current_word:\n",
    "                merged_tokens.append(current_word)\n",
    "            current_word = token\n",
    "    if current_word:\n",
    "        merged_tokens.append(current_word)\n",
    "    return merged_tokens\n",
    "    \n",
    "text = file\n",
    "cleaned_text = clean_text(text)\n",
    "doc2_tokens = tokenizer.tokenize(cleaned_text)\n",
    "cleaned_tokens_doc2 = merge_wordpiece_tokens(doc2_tokens)\n",
    "\n",
    "print(cleaned_tokens_doc2)"
   ]
  },
  {
   "cell_type": "code",
   "execution_count": 9,
   "id": "42e8f0bc-d766-454e-92b4-f0f89134a423",
   "metadata": {},
   "outputs": [],
   "source": [
    "set2 = set(doc2_tokens)"
   ]
  },
  {
   "cell_type": "code",
   "execution_count": 10,
   "id": "506751db-cf0b-48a9-8e56-ad3ece3d508e",
   "metadata": {},
   "outputs": [
    {
     "name": "stdout",
     "output_type": "stream",
     "text": [
      "{'question', 'give', 'with', 'public', 'number', '##morphism', 'degree', 'for', 'interface', '##23', 'int', 'ii', 'is', 'illustrations', 'day', '30', 'when', '##i', 'methods', 'returns', 'java', '1', 'them', 'd', '3', '##ce', 'five', 'method', 'at', 'each', 'between', '8', 'it', 'test', 'user', 'how', 'suppose', '##3', 'bachelor', 'an', 'from', 'examinations', 'this', 'paper', 'consider', 'stream', 'ki', 'objects', 'what', 'have', 'answer', 'that', 'one', 'item', 'any', 'might', 'anything', 'should', 'programming', 'class', 'identify', 'describe', 'poly', 'handle', 'string', '##si', 'not', 'oriented', 'would', 'void', 'instructions', '##cat', 'which', '##s', 'and', 'be', 'examination', 'do', 'try', '##de', 'hours', 'in', 'abstract', 'explain', '##0', 'first', 'date', '##or', 'program', 'third', 'then', '##1', 'array', 'used', 'are', 'write', 'information', 'i', 'appropriate', 'example', 'b', 'other', 'e', 'error', 'difference', 'university', 'the', 'four', '202', 'page', '7', 'three', 'block', '##ne', 'examples', 'exception', 'on', '2', 'use', 'award', 'c', '305', 'two', 'y', 'following', 'time', '##mber', 'of', 'by', '4', '6', 'to', 'tuesday', '20', 'as', 'object', 'science', 'create', 'clearly', 'semester', 'called', 'a', 'can', 'year', 'code', '##ch', 'will', 'marks', '5', 'questions', 'handling'}\n"
     ]
    }
   ],
   "source": [
    "common_words = set1.intersection(set2)\n",
    "print(common_words)"
   ]
  },
  {
   "cell_type": "code",
   "execution_count": 11,
   "id": "4935cb5e-51d4-44eb-9d46-fa4f20407654",
   "metadata": {},
   "outputs": [
    {
     "name": "stdout",
     "output_type": "stream",
     "text": [
      "{'question', 'give', 'public', 'number', '##morphism', 'degree', 'interface', '##23', 'int', 'ii', 'illustrations', 'day', '30', '##i', 'methods', 'returns', 'java', '1', '3', '##ce', 'five', 'method', '8', 'test', 'user', 'suppose', '##3', 'bachelor', 'examinations', 'paper', 'consider', 'stream', 'ki', 'objects', 'answer', 'one', 'item', 'might', 'anything', 'programming', 'class', 'identify', 'describe', 'poly', 'handle', 'string', '##si', 'oriented', 'would', 'void', 'instructions', '##cat', '##s', 'examination', 'try', '##de', 'hours', 'explain', 'abstract', '##0', 'first', 'date', '##or', 'program', 'third', '##1', 'array', 'used', 'write', 'information', 'appropriate', 'example', 'b', 'e', 'error', 'difference', 'university', 'four', '202', 'page', '7', 'three', 'block', '##ne', 'examples', 'exception', '2', 'use', 'award', 'c', '305', 'two', 'following', 'time', '##mber', '4', '6', 'tuesday', '20', 'object', 'science', 'create', 'clearly', 'semester', 'called', 'year', 'code', '##ch', 'marks', '5', 'questions', 'handling'}\n"
     ]
    }
   ],
   "source": [
    "import nltk\n",
    "from nltk.corpus import stopwords\n",
    "\n",
    "stop_words = set(stopwords.words('english'))\n",
    "filtered_common_words = common_words - stop_words\n",
    "print(filtered_common_words)"
   ]
  },
  {
   "cell_type": "code",
   "execution_count": 16,
   "id": "80b02df3-57a2-4d99-bea0-69f3912b3f5d",
   "metadata": {},
   "outputs": [],
   "source": [
    "#from sklearn.feature_extraction.text import TfidfVectorizer\n",
    "\n",
    "#def extract_keywords(text):\n",
    " #   vectorizer = TfidfVectorizer(stop_words=\"english\")\n",
    " #   X = vectorizer.fit_transform([text])\n",
    " #   keywords = vectorizer.get_feature_names_out()\n",
    " #   return keywords\n",
    "\n",
    "#text = file\n",
    "#print(extract_keywords(text))"
   ]
  },
  {
   "cell_type": "code",
   "execution_count": null,
   "id": "7916933a-56f8-436b-b25a-1a5af2b911e5",
   "metadata": {},
   "outputs": [],
   "source": []
  },
  {
   "cell_type": "code",
   "execution_count": null,
   "id": "7189c29e-b187-4cc3-a6c0-ca364b27947a",
   "metadata": {},
   "outputs": [],
   "source": []
  }
 ],
 "metadata": {
  "kernelspec": {
   "display_name": "Python 3 (ipykernel)",
   "language": "python",
   "name": "python3"
  },
  "language_info": {
   "codemirror_mode": {
    "name": "ipython",
    "version": 3
   },
   "file_extension": ".py",
   "mimetype": "text/x-python",
   "name": "python",
   "nbconvert_exporter": "python",
   "pygments_lexer": "ipython3",
   "version": "3.12.3"
  }
 },
 "nbformat": 4,
 "nbformat_minor": 5
}
