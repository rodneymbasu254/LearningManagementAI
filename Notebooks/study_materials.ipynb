{
 "cells": [
  {
   "cell_type": "code",
   "execution_count": null,
   "id": "8d17c17a-13ef-45b7-9cb1-e09adadbb76e",
   "metadata": {},
   "outputs": [],
   "source": [
    "import requests\n",
    "from serpapi import GoogleSearch\n",
    "from newspaper import Article\n",
    "from transformers import pipeline\n",
    "import re\n",
    "\n",
    "SERP_API_KEY = \"4c3a39f406bb56f40ea28e7b2b59186206d9eb054c352ef8e19552d9900611f2\"\n",
    "\n",
    "def search_study_materials(query):\n",
    "    params = {\n",
    "        \"q\": query + \" study materials\",\n",
    "        \"hl\": \"en\",\n",
    "        \"gl\": \"us\",\n",
    "        \"api_key\": SERP_API_KEY\n",
    "    }\n",
    "    search = GoogleSearch(params)\n",
    "    results = search.get_dict()\n",
    "    \n",
    "    links = []\n",
    "    for result in results.get(\"organic_results\", []):\n",
    "        if \"link\" in result and re.match(r'https?://', result[\"link\"]):\n",
    "            links.append(result[\"link\"])\n",
    "    \n",
    "    return links[:5]\n",
    "\n",
    "def summarize_article(url):\n",
    "    try:\n",
    "        article = Article(url)\n",
    "        article.download()\n",
    "        article.parse()\n",
    "        article.nlp()\n",
    "        return article.summary\n",
    "    except Exception as e:\n",
    "        return f\"Error processing article: {str(e)}\"\n",
    "\n",
    "def rank_materials(study_links, course_objectives):\n",
    "    summarizer = pipeline(\"summarization\")\n",
    "    ranked_materials = []\n",
    "    \n",
    "    for link in study_links:\n",
    "        summary = summarize_article(link)\n",
    "        relevance_score = sum(1 for obj in course_objectives if obj.lower() in summary.lower())\n",
    "        ranked_materials.append((link, relevance_score, summary))\n",
    "    \n",
    "    ranked_materials.sort(key=lambda x: x[1], reverse=True)\n",
    "    return ranked_materials\n",
    "\n",
    "query = \"Deep Learning\"\n",
    "course_objectives = [\"Neural Networks\", \"Backpropagation\", \"Optimization\"]\n",
    "\n",
    "study_links = search_study_materials(query)\n",
    "recommended_materials = rank_materials(study_links, course_objectives)\n",
    "\n",
    "for link, score, summary in recommended_materials:\n",
    "    print(f\"Link: {link}\\nRelevance Score: {score}\\nSummary: {summary}\\n\\n\")\n"
   ]
  },
  {
   "cell_type": "code",
   "execution_count": null,
   "id": "851751dd-8102-4895-a972-9e6001e76a0e",
   "metadata": {},
   "outputs": [],
   "source": []
  }
 ],
 "metadata": {
  "kernelspec": {
   "display_name": "Python 3 (ipykernel)",
   "language": "python",
   "name": "python3"
  },
  "language_info": {
   "codemirror_mode": {
    "name": "ipython",
    "version": 3
   },
   "file_extension": ".py",
   "mimetype": "text/x-python",
   "name": "python",
   "nbconvert_exporter": "python",
   "pygments_lexer": "ipython3",
   "version": "3.12.3"
  }
 },
 "nbformat": 4,
 "nbformat_minor": 5
}
