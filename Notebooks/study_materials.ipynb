{
 "cells": [
  {
   "cell_type": "code",
   "execution_count": 2,
   "id": "8d17c17a-13ef-45b7-9cb1-e09adadbb76e",
   "metadata": {},
   "outputs": [
    {
     "ename": "AttributeError",
     "evalue": "'GoogleSearch' object has no attribute 'get'",
     "output_type": "error",
     "traceback": [
      "\u001b[1;31m---------------------------------------------------------------------------\u001b[0m",
      "\u001b[1;31mAttributeError\u001b[0m                            Traceback (most recent call last)",
      "Cell \u001b[1;32mIn[2], line 57\u001b[0m\n\u001b[0;32m     54\u001b[0m query \u001b[38;5;241m=\u001b[39m \u001b[38;5;124m\"\u001b[39m\u001b[38;5;124mDeep Learning\u001b[39m\u001b[38;5;124m\"\u001b[39m\n\u001b[0;32m     55\u001b[0m course_objectives \u001b[38;5;241m=\u001b[39m [\u001b[38;5;124m\"\u001b[39m\u001b[38;5;124mNeural Networks\u001b[39m\u001b[38;5;124m\"\u001b[39m, \u001b[38;5;124m\"\u001b[39m\u001b[38;5;124mBackpropagation\u001b[39m\u001b[38;5;124m\"\u001b[39m, \u001b[38;5;124m\"\u001b[39m\u001b[38;5;124mOptimization\u001b[39m\u001b[38;5;124m\"\u001b[39m]\n\u001b[1;32m---> 57\u001b[0m study_links \u001b[38;5;241m=\u001b[39m \u001b[43msearch_study_materials\u001b[49m\u001b[43m(\u001b[49m\u001b[43mquery\u001b[49m\u001b[43m)\u001b[49m\n\u001b[0;32m     58\u001b[0m recommended_materials \u001b[38;5;241m=\u001b[39m rank_materials(study_links, course_objectives)\n\u001b[0;32m     60\u001b[0m \u001b[38;5;28;01mfor\u001b[39;00m link, score, summary \u001b[38;5;129;01min\u001b[39;00m recommended_materials:\n",
      "Cell \u001b[1;32mIn[2], line 19\u001b[0m, in \u001b[0;36msearch_study_materials\u001b[1;34m(query)\u001b[0m\n\u001b[0;32m     12\u001b[0m params \u001b[38;5;241m=\u001b[39m {\n\u001b[0;32m     13\u001b[0m     \u001b[38;5;124m\"\u001b[39m\u001b[38;5;124mq\u001b[39m\u001b[38;5;124m\"\u001b[39m: query \u001b[38;5;241m+\u001b[39m \u001b[38;5;124m\"\u001b[39m\u001b[38;5;124m study materials\u001b[39m\u001b[38;5;124m\"\u001b[39m,\n\u001b[0;32m     14\u001b[0m     \u001b[38;5;124m\"\u001b[39m\u001b[38;5;124mhl\u001b[39m\u001b[38;5;124m\"\u001b[39m: \u001b[38;5;124m\"\u001b[39m\u001b[38;5;124men\u001b[39m\u001b[38;5;124m\"\u001b[39m,\n\u001b[0;32m     15\u001b[0m     \u001b[38;5;124m\"\u001b[39m\u001b[38;5;124mgl\u001b[39m\u001b[38;5;124m\"\u001b[39m: \u001b[38;5;124m\"\u001b[39m\u001b[38;5;124mus\u001b[39m\u001b[38;5;124m\"\u001b[39m,\n\u001b[0;32m     16\u001b[0m     \u001b[38;5;124m\"\u001b[39m\u001b[38;5;124mapi_key\u001b[39m\u001b[38;5;124m\"\u001b[39m: SERP_API_KEY\n\u001b[0;32m     17\u001b[0m }\n\u001b[0;32m     18\u001b[0m search \u001b[38;5;241m=\u001b[39m GoogleSearch(params)\n\u001b[1;32m---> 19\u001b[0m results \u001b[38;5;241m=\u001b[39m \u001b[43msearch\u001b[49m\u001b[38;5;241;43m.\u001b[39;49m\u001b[43mget\u001b[49m()\n\u001b[0;32m     21\u001b[0m \u001b[38;5;66;03m# Extract relevant links\u001b[39;00m\n\u001b[0;32m     22\u001b[0m links \u001b[38;5;241m=\u001b[39m []\n",
      "\u001b[1;31mAttributeError\u001b[0m: 'GoogleSearch' object has no attribute 'get'"
     ]
    }
   ],
   "source": [
    "import requests\n",
    "from serpapi import GoogleSearch\n",
    "from newspaper import Article\n",
    "from transformers import pipeline\n",
    "import re\n",
    "\n",
    "# Set up SerpAPI key\n",
    "SERP_API_KEY = \"4c3a39f406bb56f40ea28e7b2b59186206d9eb054c352ef8e19552d9900611f2\"\n",
    "\n",
    "# Function to search Google using SerpAPI\n",
    "def search_study_materials(query):\n",
    "    params = {\n",
    "        \"q\": query + \" study materials\",\n",
    "        \"hl\": \"en\",\n",
    "        \"gl\": \"us\",\n",
    "        \"api_key\": SERP_API_KEY\n",
    "    }\n",
    "    search = GoogleSearch(params)\n",
    "    results = search.get()\n",
    "    \n",
    "    # Extract relevant links\n",
    "    links = []\n",
    "    for result in results.get(\"organic_results\", []):\n",
    "        if \"link\" in result and re.match(r'https?://', result[\"link\"]):\n",
    "            links.append(result[\"link\"])\n",
    "    \n",
    "    return links[:5]  # Return top 5 links\n",
    "\n",
    "# Function to summarize an article\n",
    "def summarize_article(url):\n",
    "    try:\n",
    "        article = Article(url)\n",
    "        article.download()\n",
    "        article.parse()\n",
    "        article.nlp()\n",
    "        return article.summary\n",
    "    except Exception as e:\n",
    "        return f\"Error processing article: {str(e)}\"\n",
    "\n",
    "# Function to rank materials based on course objectives\n",
    "def rank_materials(study_links, course_objectives):\n",
    "    summarizer = pipeline(\"summarization\")\n",
    "    ranked_materials = []\n",
    "    \n",
    "    for link in study_links:\n",
    "        summary = summarize_article(link)\n",
    "        relevance_score = sum(1 for obj in course_objectives if obj.lower() in summary.lower())\n",
    "        ranked_materials.append((link, relevance_score, summary))\n",
    "    \n",
    "    ranked_materials.sort(key=lambda x: x[1], reverse=True)  # Sort by relevance\n",
    "    return ranked_materials\n",
    "\n",
    "# Example usage\n",
    "query = \"Deep Learning\"\n",
    "course_objectives = [\"Neural Networks\", \"Backpropagation\", \"Optimization\"]\n",
    "\n",
    "study_links = search_study_materials(query)\n",
    "recommended_materials = rank_materials(study_links, course_objectives)\n",
    "\n",
    "for link, score, summary in recommended_materials:\n",
    "    print(f\"Link: {link}\\nRelevance Score: {score}\\nSummary: {summary}\\n\\n\")\n"
   ]
  },
  {
   "cell_type": "code",
   "execution_count": null,
   "id": "851751dd-8102-4895-a972-9e6001e76a0e",
   "metadata": {},
   "outputs": [],
   "source": []
  }
 ],
 "metadata": {
  "kernelspec": {
   "display_name": "Python 3 (ipykernel)",
   "language": "python",
   "name": "python3"
  },
  "language_info": {
   "codemirror_mode": {
    "name": "ipython",
    "version": 3
   },
   "file_extension": ".py",
   "mimetype": "text/x-python",
   "name": "python",
   "nbconvert_exporter": "python",
   "pygments_lexer": "ipython3",
   "version": "3.12.3"
  }
 },
 "nbformat": 4,
 "nbformat_minor": 5
}
