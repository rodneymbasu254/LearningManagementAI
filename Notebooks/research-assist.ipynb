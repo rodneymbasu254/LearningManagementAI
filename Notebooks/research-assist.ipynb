{
 "cells": [
  {
   "cell_type": "code",
   "execution_count": 1,
   "id": "6b953da7-651f-4794-8641-08a3351a2534",
   "metadata": {},
   "outputs": [],
   "source": [
    "import random\n",
    "import requests\n",
    "import os\n",
    "import matplotlib.pyplot as plt\n",
    "from bs4 import BeautifulSoup\n",
    "from serpapi import GoogleSearch"
   ]
  },
  {
   "cell_type": "code",
   "execution_count": null,
   "id": "8b3af21a-a748-4cc9-8688-22e3c9408ba8",
   "metadata": {},
   "outputs": [],
   "source": [
    "def search_study_materials(query):\n",
    "    params = {\n",
    "        \"q\": query + \" study materials\",\n",
    "        \"hl\": \"en\",\n",
    "        \"gl\": \"us\",\n",
    "        \"api_key\": SERP_API_KEY\n",
    "    }\n",
    "    search = GoogleSearch(params)\n",
    "    results = search.get_dict()\n",
    "    \n",
    "    links = []\n",
    "    for result in results.get(\"organic_results\", []):\n",
    "        if \"link\" in result and re.match(r'https?://', result[\"link\"]):\n",
    "            links.append(result[\"link\"])\n",
    "    \n",
    "    return links[:5]"
   ]
  }
 ],
 "metadata": {
  "kernelspec": {
   "display_name": "Python 3 (ipykernel)",
   "language": "python",
   "name": "python3"
  },
  "language_info": {
   "codemirror_mode": {
    "name": "ipython",
    "version": 3
   },
   "file_extension": ".py",
   "mimetype": "text/x-python",
   "name": "python",
   "nbconvert_exporter": "python",
   "pygments_lexer": "ipython3",
   "version": "3.12.3"
  }
 },
 "nbformat": 4,
 "nbformat_minor": 5
}
